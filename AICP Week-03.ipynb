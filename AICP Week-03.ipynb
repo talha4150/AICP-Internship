{
 "cells": [
  {
   "cell_type": "code",
   "execution_count": 3,
   "id": "996ab425",
   "metadata": {},
   "outputs": [
    {
     "name": "stdout",
     "output_type": "stream",
     "text": [
      "My Student id is:  Talha123\n",
      "Enter your choice\n",
      "Press 1 to display the bill of slab 1 and slab 2\n",
      "Press 2 to display the bill of slab 3.\n",
      "Press any other key to exit\n",
      "1\n",
      "\n",
      " ====================== \n",
      "Bill for slab 1 is: \n",
      "250 \t420 \t870 \t\n",
      "Bill for slab 2 is: \n",
      "2100\t2310\t2970\t\n",
      " ====================== \n",
      "Enter your choice\n",
      "Press 1 to display the bill of slab 1 and slab 2\n",
      "Press 2 to display the bill of slab 3.\n",
      "Press any other key to exit\n",
      "2\n",
      "\n",
      " ====================== \n",
      "\n",
      "Bill for slab 3 is: \n",
      "4340\t4400\t5200\t\n",
      " ====================== \n",
      "Enter your choice\n",
      "Press 1 to display the bill of slab 1 and slab 2\n",
      "Press 2 to display the bill of slab 3.\n",
      "Press any other key to exit\n",
      "d\n",
      "Thankyou!\n"
     ]
    }
   ],
   "source": [
    "stu_id = 'Talha123'\n",
    "print('My Student id is: ', stu_id)\n",
    "\n",
    "units = [[25,42,87],\n",
    "        [140,154,198],\n",
    "         [217,220,260]]\n",
    "\n",
    "def costSlab1():\n",
    "  unit_cost = 10\n",
    "  print('\\n ====================== \\n', end='')\n",
    "  print('Bill for slab 1 is: ')\n",
    "  for unit in units[0]:\n",
    "    bill = unit_cost*unit\n",
    "    print(bill,end=\" \\t\")\n",
    "\n",
    "def costSlab2():\n",
    "  unit_cost = 15\n",
    "  print('\\nBill for slab 2 is: ')\n",
    "  for unit in units[1]:\n",
    "    bill = unit_cost*unit\n",
    "    print(bill,end=\"\\t\")\n",
    "  print('\\n ====================== \\n',end='')\n",
    "\n",
    "def costSlab3():\n",
    "  unit_cost = 20\n",
    "  print('\\n ====================== \\n',end='')\n",
    "  print('\\nBill for slab 3 is: ')\n",
    "  for unit in units[2]:\n",
    "    bill = unit_cost*unit\n",
    "    print(bill,end=\"\\t\")\n",
    "  print('\\n ====================== \\n',end='')\n",
    "\n",
    "while(True):\n",
    "  print('Enter your choice')\n",
    "  choice = input('Press 1 to display the bill of slab 1 and slab 2\\nPress 2 to display the bill of slab 3.\\nPress any other key to exit\\n')\n",
    "  if choice == '1':\n",
    "    costSlab1()\n",
    "    costSlab2()\n",
    "  elif choice == '2':\n",
    "    costSlab3()\n",
    "  else:\n",
    "    print('Thankyou!')\n",
    "    break    "
   ]
  },
  {
   "cell_type": "code",
   "execution_count": null,
   "id": "da4c9bb4",
   "metadata": {},
   "outputs": [],
   "source": []
  }
 ],
 "metadata": {
  "kernelspec": {
   "display_name": "Python 3 (ipykernel)",
   "language": "python",
   "name": "python3"
  },
  "language_info": {
   "codemirror_mode": {
    "name": "ipython",
    "version": 3
   },
   "file_extension": ".py",
   "mimetype": "text/x-python",
   "name": "python",
   "nbconvert_exporter": "python",
   "pygments_lexer": "ipython3",
   "version": "3.11.4"
  }
 },
 "nbformat": 4,
 "nbformat_minor": 5
}
